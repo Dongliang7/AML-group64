{
 "cells": [
  {
   "cell_type": "code",
   "execution_count": 7,
   "metadata": {},
   "outputs": [],
   "source": [
    "from collections import defaultdict\n",
    "import pandas as pd\n",
    "import os\n",
    "import shutil"
   ]
  },
  {
   "cell_type": "code",
   "execution_count": null,
   "metadata": {},
   "outputs": [],
   "source": [
    "# Having \"can not mkdir error\" in Mac Catalina, \n",
    "# so created subfolders under train_set_category in advance\n",
    "def image_category (src,des):\n",
    "    image_category = defaultdict(list)\n",
    "    train_labels = pd.read_csv('train_labels.csv', sep=',', engine='python')\n",
    "    for index, row in train_labels.iterrows():\n",
    "        image_category[row['label']].append(row['img_name'])\n",
    "    for category in image_category.keys():\n",
    "        category_str = str(category)\n",
    "        category_path_str = os.path.normpath(category_str)\n",
    "        for image in image_category[category]:\n",
    "            shutil.copy(os.path.join(src,image), os.path.join(des,category_path_str,image))\n",
    "image_category('train_set/train_set','train_set_category')            "
   ]
  }
 ],
 "metadata": {
  "kernelspec": {
   "display_name": "Python 3",
   "language": "python",
   "name": "python3"
  },
  "language_info": {
   "codemirror_mode": {
    "name": "ipython",
    "version": 3
   },
   "file_extension": ".py",
   "mimetype": "text/x-python",
   "name": "python",
   "nbconvert_exporter": "python",
   "pygments_lexer": "ipython3",
   "version": "3.8.3"
  }
 },
 "nbformat": 4,
 "nbformat_minor": 4
}
